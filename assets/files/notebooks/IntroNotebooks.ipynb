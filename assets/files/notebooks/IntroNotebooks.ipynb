{
 "cells": [
  {
   "cell_type": "markdown",
   "id": "d8291be3",
   "metadata": {},
   "source": [
    "# Introduction to Notebooks"
   ]
  },
  {
   "cell_type": "code",
   "execution_count": 1,
   "id": "3caf17af",
   "metadata": {},
   "outputs": [
    {
     "ename": "NameError",
     "evalue": "name 'updated_check_movie_release' is not defined",
     "output_type": "error",
     "traceback": [
      "\u001b[0;31m---------------------------------------------------------------------------\u001b[0m",
      "\u001b[0;31mNameError\u001b[0m                                 Traceback (most recent call last)",
      "Input \u001b[0;32mIn [1]\u001b[0m, in \u001b[0;36m<module>\u001b[0;34m\u001b[0m\n\u001b[1;32m     10\u001b[0m favorite_movies \u001b[38;5;241m=\u001b[39m[\n\u001b[1;32m     11\u001b[0m     {\n\u001b[1;32m     12\u001b[0m         \u001b[38;5;124m\"\u001b[39m\u001b[38;5;124mname\u001b[39m\u001b[38;5;124m\"\u001b[39m: \u001b[38;5;124m\"\u001b[39m\u001b[38;5;124mThe Matrix IV\u001b[39m\u001b[38;5;124m\"\u001b[39m,\n\u001b[0;32m   (...)\u001b[0m\n\u001b[1;32m     26\u001b[0m     }\n\u001b[1;32m     27\u001b[0m ]\n\u001b[1;32m     29\u001b[0m \u001b[38;5;28;01mfor\u001b[39;00m movie \u001b[38;5;129;01min\u001b[39;00m favorite_movies:\n\u001b[0;32m---> 30\u001b[0m     updated_movie \u001b[38;5;241m=\u001b[39m \u001b[43mupdated_check_movie_release\u001b[49m(movie, \u001b[38;5;241m2020\u001b[39m)\n\u001b[1;32m     31\u001b[0m     \u001b[38;5;28;01mif\u001b[39;00m updated_movie[\u001b[38;5;124m'\u001b[39m\u001b[38;5;124mrecent\u001b[39m\u001b[38;5;124m'\u001b[39m]:\n\u001b[1;32m     32\u001b[0m         recent_movies\u001b[38;5;241m.\u001b[39mappend(updated_movie[\u001b[38;5;124m'\u001b[39m\u001b[38;5;124mname\u001b[39m\u001b[38;5;124m'\u001b[39m])\n",
      "\u001b[0;31mNameError\u001b[0m: name 'updated_check_movie_release' is not defined"
     ]
    }
   ],
   "source": [
    "def check_movie_release(movie):\n",
    "    if movie['release_year'] < 2000:\n",
    "        print(f\"{movie['name']} was released before 2000\")\n",
    "    else:\n",
    "        print(f\"{movie['name']} was released after 2000\")\n",
    "        return movie['name']\n",
    "\n",
    "recent_movies = []\n",
    "\n",
    "favorite_movies =[\n",
    "    {\n",
    "        \"name\": \"The Matrix IV\",\n",
    "        \"release_year\": 2022,\n",
    "        \"sequels\": [\"The Matrix I\", \"The Matrix II\", \"The Matrix III\"]\n",
    "    },\n",
    "    {\n",
    "        \"name\": \"Star Wars IV\",\n",
    "        \"release_year\": 1977,\n",
    "        \"sequels\": [\"Star Wars V\", \"Star Wars VI\", \"Star Wars VII\", \"Star Wars VIII\", \"Star Wars IX\"],\n",
    "        \"prequels\": [\"Star Wars I\", \"Star Wars II\", \"Star Wars III\"]\n",
    "    },\n",
    "    {\n",
    "        \"name\": \"The Lord of the Rings: The Fellowship of the Ring\",\n",
    "        \"release_year\": 2001,\n",
    "        \"sequels\": [\"The Two Towers\", \"The Return of the King\"]\n",
    "    }\n",
    "]\n",
    "\n",
    "for movie in favorite_movies:\n",
    "    updated_movie = updated_check_movie_release(movie, 2020)\n",
    "    if updated_movie['recent']:\n",
    "        recent_movies.append(updated_movie['name'])\n",
    "\n",
    "print(recent_movies)"
   ]
  },
  {
   "cell_type": "code",
   "execution_count": 4,
   "id": "95139ebc",
   "metadata": {},
   "outputs": [],
   "source": [
    "def updated_check_movie_release(movie, released_after_year, released_before_year=2024):\n",
    "    if released_after_year < movie['release_year'] and movie['release_year'] < released_before_year:\n",
    "        movie['recent'] = True\n",
    "    else:\n",
    "        movie['recent'] = False\n",
    "    return movie"
   ]
  },
  {
   "cell_type": "code",
   "execution_count": 2,
   "id": "24f8e866",
   "metadata": {},
   "outputs": [],
   "source": [
    "import pandas as pd\n",
    "import os"
   ]
  },
  {
   "cell_type": "code",
   "execution_count": 3,
   "id": "3654f960",
   "metadata": {},
   "outputs": [
    {
     "data": {
      "text/plain": [
       "True"
      ]
     },
     "execution_count": 3,
     "metadata": {},
     "output_type": "execute_result"
    }
   ],
   "source": [
    "os.path.exists(\"../web_scraping/cleaned_pudding_data.csv\")"
   ]
  },
  {
   "cell_type": "code",
   "execution_count": 4,
   "id": "1cbc4551",
   "metadata": {},
   "outputs": [
    {
     "data": {
      "text/plain": [
       "[{'name': 'The Matrix I',\n",
       "  'release_year': 1999,\n",
       "  'sequels': ['The Matrix II', 'The Matrix III', 'The Matrix IV']},\n",
       " {'name': 'Star Wars IV',\n",
       "  'release_year': 1977,\n",
       "  'sequels': ['Star Wars V',\n",
       "   'Star Wars VI',\n",
       "   'Star Wars VII',\n",
       "   'Star Wars VIII',\n",
       "   'Star Wars IX'],\n",
       "  'prequels': ['Star Wars I', 'Star Wars II', 'Star Wars III']}]"
      ]
     },
     "execution_count": 4,
     "metadata": {},
     "output_type": "execute_result"
    }
   ],
   "source": [
    "favorite_movies"
   ]
  },
  {
   "cell_type": "code",
   "execution_count": 24,
   "id": "5eed666d",
   "metadata": {},
   "outputs": [
    {
     "name": "stdout",
     "output_type": "stream",
     "text": [
      "2000 2024\n",
      "2000 2024\n",
      "2000 2024\n",
      "['The Matrix IV', 'The Lord of the Rings: The Fellowship of the Ring']\n"
     ]
    }
   ],
   "source": [
    "def check_movie_release(movie, released_after_year, released_before_year=2024):\n",
    "    print(released_after_year, released_before_year)\n",
    "    if movie['release_year'] > released_after_year and movie['release_year'] < released_before_year:\n",
    "        movie['recent'] = True\n",
    "    else:\n",
    "        movie['recent'] = False\n",
    "    return movie\n",
    "\n",
    "recent_movies = []\n",
    "\n",
    "favorite_movies =[\n",
    "    {\n",
    "        \"name\": \"The Matrix IV\",\n",
    "        \"release_year\": 2022,\n",
    "        \"sequels\": [\"The Matrix I\", \"The Matrix II\", \"The Matrix III\"]\n",
    "    },\n",
    "    {\n",
    "        \"name\": \"Star Wars IV\",\n",
    "        \"release_year\": 1977,\n",
    "        \"sequels\": [\"Star Wars V\", \"Star Wars VI\", \"Star Wars VII\", \"Star Wars VIII\", \"Star Wars IX\"],\n",
    "        \"prequels\": [\"Star Wars I\", \"Star Wars II\", \"Star Wars III\"]\n",
    "    },\n",
    "    {\n",
    "        \"name\": \"The Lord of the Rings: The Fellowship of the Ring\",\n",
    "        \"release_year\": 2001,\n",
    "        \"sequels\": [\"The Two Towers\", \"The Return of the King\"]\n",
    "    }\n",
    "]\n",
    "\n",
    "for movie in favorite_movies:\n",
    "    updated_movie = check_movie_release(movie, 2000)\n",
    "    if updated_movie['recent']:\n",
    "        recent_movies.append(updated_movie['name'])\n",
    "\n",
    "print(recent_movies)"
   ]
  },
  {
   "cell_type": "code",
   "execution_count": 27,
   "id": "069e6557",
   "metadata": {},
   "outputs": [
    {
     "name": "stdout",
     "output_type": "stream",
     "text": [
      "1980 2000\n",
      "1980 2000\n",
      "1980 2000\n",
      "[]\n"
     ]
    }
   ],
   "source": [
    "recent_movies = []\n",
    "for movie in favorite_movies:\n",
    "    updated_movie = check_movie_release(movie, 1980, 2000)\n",
    "    if updated_movie['recent']:\n",
    "        recent_movies.append(updated_movie['name'])\n",
    "\n",
    "print(recent_movies)"
   ]
  },
  {
   "cell_type": "code",
   "execution_count": null,
   "id": "02056e50",
   "metadata": {},
   "outputs": [],
   "source": [
    "favorite_movies =[\n",
    "    {\n",
    "        \"name\": \"The Matrix IV\",\n",
    "        \"release_year\": 2022,\n",
    "        \"sequels\": [\"The Matrix I\", \"The Matrix II\", \"The Matrix III\"]\n",
    "    },\n",
    "    {\n",
    "        \"name\": \"Star Wars IV\",\n",
    "        \"release_year\": 1977,\n",
    "        \"sequels\": [\"Star Wars V\", \"Star Wars VI\", \"Star Wars VII\", \"Star Wars VIII\", \"Star Wars IX\"],\n",
    "        \"prequels\": [\"Star Wars I\", \"Star Wars II\", \"Star Wars III\"]\n",
    "    },\n",
    "    {\n",
    "        \"name\": \"The Lord of the Rings: The Fellowship of the Ring\",\n",
    "        \"release_year\": 2001,\n",
    "        \"sequels\": [\"The Two Towers\", \"The Return of the King\"]\n",
    "    }\n",
    "]\n",
    "\n",
    "recent_movies = []\n",
    "\n",
    "for movie in favorite_movies:\n",
    "    updated_movie = check_movie_release(movie, 2000)\n",
    "    if updated_movie['recent']:\n",
    "        recent_movies.append(updated_movie['name'])\n",
    "\n",
    "print(recent_movies)"
   ]
  },
  {
   "cell_type": "code",
   "execution_count": 13,
   "id": "d9c8da49",
   "metadata": {},
   "outputs": [
    {
     "name": "stdout",
     "output_type": "stream",
     "text": [
      "['The Matrix IV', 'The Lord of the Rings: The Fellowship of the Ring']\n"
     ]
    }
   ],
   "source": [
    "\n",
    "\n"
   ]
  },
  {
   "cell_type": "code",
   "execution_count": null,
   "id": "2400ff74",
   "metadata": {},
   "outputs": [],
   "source": []
  },
  {
   "cell_type": "code",
   "execution_count": 7,
   "id": "05711288",
   "metadata": {},
   "outputs": [],
   "source": [
    "# Change Favorite Matrix Movie to Matrix IV\n",
    "for movie in favorite_movies:\n",
    "    if movie['name'] == \"The Matrix I\":\n",
    "        movie['name'] = \"The Matrix IV\"\n",
    "        movie['release_year'] = 2022\n",
    "        movie['prequels'] = [\"The Matrix I\", \"The Matrix II\", \"The Matrix III\"]\n",
    "        movie['sequels'] = []\n",
    "        result = check_movie_release(movie)\n",
    "        if result is not None:\n",
    "            recent_movies.append(result)"
   ]
  },
  {
   "cell_type": "code",
   "execution_count": 8,
   "id": "239651c6",
   "metadata": {},
   "outputs": [
    {
     "data": {
      "text/plain": [
       "['The Lord of the Rings: The Fellowship of the Ring', 'The Matrix IV']"
      ]
     },
     "execution_count": 8,
     "metadata": {},
     "output_type": "execute_result"
    }
   ],
   "source": [
    "recent_movies"
   ]
  },
  {
   "cell_type": "code",
   "execution_count": 6,
   "id": "5c93bb60",
   "metadata": {},
   "outputs": [],
   "source": [
    "import pandas as pd\n",
    "df = pd.read_csv(\"../web_scraping/cleaned_pudding_data.csv\")"
   ]
  },
  {
   "cell_type": "code",
   "execution_count": 8,
   "id": "3f3da22a",
   "metadata": {},
   "outputs": [],
   "source": [
    "df = df.rename(columns={\"gross (inflation-adjusted)\": \"gross_ia\"})"
   ]
  },
  {
   "cell_type": "code",
   "execution_count": 12,
   "id": "917e8aae",
   "metadata": {},
   "outputs": [
    {
     "data": {
      "text/plain": [
       "1992    5\n",
       "1997    5\n",
       "2001    5\n",
       "2000    5\n",
       "1996    4\n",
       "1994    4\n",
       "1999    4\n",
       "1998    4\n",
       "1993    4\n",
       "1995    3\n",
       "1987    3\n",
       "1986    3\n",
       "1989    3\n",
       "2003    3\n",
       "2005    3\n",
       "1985    2\n",
       "1983    2\n",
       "1974    2\n",
       "1990    2\n",
       "1982    2\n",
       "2002    1\n",
       "1939    1\n",
       "1991    1\n",
       "1954    1\n",
       "1988    1\n",
       "1984    1\n",
       "1980    1\n",
       "1979    1\n",
       "1977    1\n",
       "1976    1\n",
       "1975    1\n",
       "1973    1\n",
       "1972    1\n",
       "2007    1\n",
       "Name: year, dtype: int64"
      ]
     },
     "execution_count": 12,
     "metadata": {},
     "output_type": "execute_result"
    }
   ],
   "source": [
    "df[df.gross_ia.notna()].year.value_counts()"
   ]
  },
  {
   "cell_type": "code",
   "execution_count": null,
   "id": "e93ef14c",
   "metadata": {},
   "outputs": [],
   "source": []
  }
 ],
 "metadata": {
  "kernelspec": {
   "display_name": "is310-venv",
   "language": "python",
   "name": "python3"
  },
  "language_info": {
   "codemirror_mode": {
    "name": "ipython",
    "version": 3
   },
   "file_extension": ".py",
   "mimetype": "text/x-python",
   "name": "python",
   "nbconvert_exporter": "python",
   "pygments_lexer": "ipython3",
   "version": "3.9.18"
  },
  "toc": {
   "base_numbering": 1,
   "nav_menu": {},
   "number_sections": true,
   "sideBar": true,
   "skip_h1_title": false,
   "title_cell": "Table of Contents",
   "title_sidebar": "Contents",
   "toc_cell": false,
   "toc_position": {},
   "toc_section_display": true,
   "toc_window_display": false
  }
 },
 "nbformat": 4,
 "nbformat_minor": 5
}
